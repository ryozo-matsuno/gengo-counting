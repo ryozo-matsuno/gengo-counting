{
 "cells": [
  {
   "cell_type": "code",
   "execution_count": 46,
   "metadata": {},
   "outputs": [],
   "source": [
    "import csv\n",
    "import matplotlib.pyplot as plt\n",
    "from pykakasi import kakasi\n",
    "adict = {'a':0,  'b':0, 'c':0, 'd':0, 'e':0, 'f':0, 'g':0, 'h':0, 'i':0, 'j':0, 'k':0, 'l':0, 'm':0, 'n':0, 'o':0, 'p':0, 'q':0, 'r':0, 's':0, 't':0, 'u':0, 'v':0, 'w':0, 'x':0, 'y':0, 'z':0}"
   ]
  },
  {
   "cell_type": "code",
   "execution_count": 47,
   "metadata": {
    "collapsed": true
   },
   "outputs": [],
   "source": [
    "kakasi = kakasi()\n",
    "kakasi.setMode('H','a')\n",
    "kakasi.setMode('K','a')\n",
    "kakasi.setMode('J','a')\n",
    "conv = kakasi.getConverter()"
   ]
  },
  {
   "cell_type": "code",
   "execution_count": 48,
   "metadata": {
    "collapsed": true
   },
   "outputs": [],
   "source": [
    "ifile = open('gengo.csv')\n",
    "ofile = open('gengo-rome.csv','w',newline='')"
   ]
  },
  {
   "cell_type": "code",
   "execution_count": 49,
   "metadata": {
    "collapsed": true
   },
   "outputs": [],
   "source": [
    "icsv = csv.reader(ifile)\n",
    "ocsv = csv.writer(ofile)"
   ]
  },
  {
   "cell_type": "code",
   "execution_count": 50,
   "metadata": {},
   "outputs": [],
   "source": [
    "for row in icsv:\n",
    "\n",
    "    rowitems = list(row)\n",
    "    rome =conv.do(rowitems[3])\n",
    "    rowitems.insert(4,rome)\n",
    "\n",
    "    ocsv.writerow(rowitems)"
   ]
  },
  {
   "cell_type": "code",
   "execution_count": 51,
   "metadata": {
    "collapsed": true
   },
   "outputs": [],
   "source": [
    "ifile.close()\n",
    "ofile.close()"
   ]
  },
  {
   "cell_type": "code",
   "execution_count": 52,
   "metadata": {
    "collapsed": true
   },
   "outputs": [],
   "source": [
    "ifile = open('gengo-rome.csv')\n",
    "icsv = csv.reader(ifile)"
   ]
  },
  {
   "cell_type": "code",
   "execution_count": 53,
   "metadata": {},
   "outputs": [
    {
     "name": "stdout",
     "output_type": "stream",
     "text": [
      "['1', '飛鳥時代', '大化', 'たいか', 'taika', '645～650', '6月19日', '大化元年（645）大化の改新']\n",
      "['2', '飛鳥時代', '白雉', 'はくち', 'hakuchi', '650～654', '2月15日', '白雉の後、朱鳥まで年号なし']\n",
      "['3', '飛鳥時代', '朱鳥', 'しゅちょう（すちょう）', 'shuchou（suchou）', '686', '7月20日', '１年だけで、大宝まで年号なし']\n",
      "['4', '飛鳥時代', '大宝', 'たいほう（だいほう）', 'taihou（daihou）', '701～704', '3月21日', '大宝律令']\n",
      "['5', '飛鳥時代', '慶雲', 'けいうん（きょううん）', 'keiun（kyouun）', '704～708', '5月10日', '']\n",
      "['6', '飛鳥時代', '和銅', 'わどう', 'wadou', '708～715', '1月11日', '和同３年（710)元明天皇が平城京に遷都']\n",
      "['7', '奈良時代', '霊亀', 'れいき', 'reiki', '715～717', '9月2日', '']\n",
      "['8', '奈良時代', '養老', 'ようろう', 'yourou', '717～724', '11月17日', '']\n",
      "['9', '奈良時代', '神亀', 'じんき', 'jinki', '724～729', '2月4日', '']\n",
      "['10', '奈良時代', '天平', 'てんぴょう（てんびょう）', 'tenpyou（tenbyou）', '729～749', '8月5日', '天平９年（737）長田王没？']\n",
      "['11', '奈良時代', '天平感宝', 'てんぴょうかんぽう', 'tenpyoukanpou', '749', '4月14日', '天平を「てんびょう」とも']\n",
      "['12', '奈良時代', '天平勝宝', 'てんぴょうしょうほう', 'tenpyoushouhou', '749～757', '7月2日', '天平を「てんびょう」とも']\n",
      "['13', '奈良時代', '天平宝字', 'てんぴょうほうじ', 'tenpyouhouji', '757～765', '8月18日', '天平を「てんびょう」とも']\n",
      "['14', '奈良時代', '天平神護', 'てんぴょうしんご', 'tenpyoushingo', '765～767', '1月7日', '天平を「てんびょう」とも']\n",
      "['15', '奈良時代', '神護景雲', 'しんごけいうん', 'shingokeiun', '767～770', '8月16日', '']\n",
      "['16', '奈良時代', '宝亀', 'ほうき', 'houki', '770～781', '10月1日', '']\n",
      "['17', '奈良時代', '天応', 'てんおう', \"ten'ou\", '781～782', '1月1日', '']\n",
      "['18', '奈良時代', '延暦', 'えんりゃく', 'enryaku', '782～806', '8月19日', '延暦１３年（794) 桓武天皇が平安京へ遷都']\n",
      "['19', '平安時代', '大同', 'だいどう', 'daidou', '806～810', '5月18日', '']\n",
      "['20', '平安時代', '弘仁', 'こうにん', 'kounin', '810～824', '9月19日', '']\n",
      "['21', '平安時代', '天長', 'てんちょう', 'tenchou', '824～834', '1月5日', '']\n",
      "['22', '平安時代', '承和', 'じょうわ（しょうわ）', 'jouwa（shouwa）', '834～848', '1月3日', '「そうわ」とも']\n",
      "['23', '平安時代', '嘉祥', 'かしょう（かじょう）', 'kashou（kajou）', '848～851', '6月13日', '']\n",
      "['24', '平安時代', '仁寿', 'にんじゅ', 'ninju', '851～854', '4月28日', '']\n",
      "['25', '平安時代', '斎衡', 'さいこう', 'saikou', '854～857', '11月30日', '']\n",
      "['26', '平安時代', '天安', 'てんあん（てんなん）', \"ten'an（tennan）\", '857～859', '2月21日', '']\n",
      "['27', '平安時代', '貞観', 'じょうがん', 'jougan', '859～877', '4月15日', '']\n",
      "['28', '平安時代', '元慶', 'がんぎょう（げんけい）', 'gangyou（genkei）', '877～885', '4月16日', '「がんきょう」とも，猿丸太夫？']\n",
      "['29', '平安時代', '仁和', 'にんな（じんな）', 'ninna（jinna）', '885～889', '2月21日', '']\n",
      "['30', '平安時代', '寛平', 'かんぴょう（かんぺい）', 'kanpyou（kanpei）', '889～898', '4月27日', '「かんべい」「かんへい」とも']\n",
      "['31', '平安時代', '昌泰', 'しょうたい', 'shoutai', '898～901', '4月26日', '']\n",
      "['32', '平安時代', '延喜', 'えんぎ', 'engi', '901～923', '7月15日', '']\n",
      "['33', '平安時代', '延長', 'えんちょう', 'enchou', '923～931', '閏4/11', '']\n",
      "['34', '平安時代', '承平', 'じょうへい（しょうへい）', 'jouhei（shouhei）', '931～938', '4月26日', '']\n",
      "['35', '平安時代', '天慶', 'てんぎょう（てんきょう）', 'tengyou（tenkyou）', '938～947', '5月22日', '天慶4年（941）藤原純友の乱（檜垣の媼）']\n",
      "['36', '平安時代', '天暦', 'てんりゃく（てんれき）', 'tenryaku（tenreki）', '947～957', '4月22日', '']\n",
      "['37', '平安時代', '天徳', 'てんとく', 'tentoku', '957～961', '10月27日', '']\n",
      "['38', '平安時代', '応和', 'おうわ', 'ouwa', '961～964', '2月16日', '']\n",
      "['39', '平安時代', '康保', 'こうほう', 'kouhou', '964～968', '7月10日', '']\n",
      "['40', '平安時代', '安和', 'あんな（あんわ）', 'anna（anwa）', '968～970', '8月13日', '']\n",
      "['41', '平安時代', '天禄', 'てんろく', 'tenroku', '970～973', '3月25日', '']\n",
      "['42', '平安時代', '天延', 'てんえん', \"ten'en\", '973～976', '12月20日', '']\n",
      "['43', '平安時代', '貞元', 'じょうげん（ていげん）', 'jougen（teigen）', '976～978', '7月13日', '']\n",
      "['44', '平安時代', '天元', 'てんげん', 'tengen', '978～983', '11月29日', '']\n",
      "['45', '平安時代', '永観', 'えいかん', 'eikan', '983～985', '4月15日', '']\n",
      "['46', '平安時代', '寛和', 'かんな（かんわ）', 'kanna（kanwa）', '985～987', '4月27日', '']\n",
      "['47', '平安時代', '永延', 'えいえん（ようえん）', 'eien（youen）', '987～989', '4月5日', '']\n",
      "['48', '平安時代', '永祚', 'えいそ', 'eiso', '989～990', '8月8日', '']\n",
      "['49', '平安時代', '正暦', 'しょうりゃく（じょうりゃく）', 'shouryaku（jouryaku）', '990～995', '11月7日', '「しょうれき」とも']\n",
      "['50', '平安時代', '長徳', 'ちょうとく', 'choutoku', '995～999', '2月22日', '']\n",
      "['51', '平安時代', '長保', 'ちょうほう', 'chouhou', '999～1004', '1月13日', '']\n",
      "['52', '平安時代', '寛弘', 'かんこう', 'kankou', '1004～1012', '7月20日', '']\n",
      "['53', '平安時代', '長和', 'ちょうわ', 'chouwa', '1012～1017', '12月25日', '']\n",
      "['54', '平安時代', '寛仁', 'かんにん', 'kannin', '1017～1021', '4月23日', '']\n",
      "['55', '平安時代', '治安', 'じあん（ちあん）', 'jian（chian）', '1021～1024', '2月2日', '']\n",
      "['56', '平安時代', '万寿', 'まんじゅ', 'manju', '1024～1028', '7月13日', '']\n",
      "['57', '平安時代', '長元', 'ちょうげん', 'chougen', '1028～1037', '7月25日', '']\n",
      "['58', '平安時代', '長暦', 'ちょうりゃく（ちょうれき）', 'chouryaku（choureki）', '1037～1040', '4月21日', '']\n",
      "['59', '平安時代', '長久', 'ちょうきゅう', 'choukyuu', '1040～1044', '11月10日', '']\n",
      "['60', '平安時代', '寛徳', 'かんとく', 'kantoku', '1044～1046', '11月24日', '']\n",
      "['61', '平安時代', '永承', 'えいしょう（えいじょう）', 'eishou（eijou）', '1046～1053', '4月14日', '「ようじょう」とも']\n",
      "['62', '平安時代', '天喜', 'てんぎ（てんき）', 'tengi（tenki）', '1053～1058', '1月11日', '']\n",
      "['63', '平安時代', '康平', 'こうへい', 'kouhei', '1058～1065', '8月29日', '']\n",
      "['64', '平安時代', '治暦', 'じりゃく（ちりゃく）', 'jiryaku（chiryaku）', '1065～1069', '8月2日', '']\n",
      "['65', '平安時代', '延久', 'えんきゅう', 'enkyuu', '1069～1074', '4月13日', '']\n",
      "['66', '平安時代', '承保', 'じょうほう（しょうほう）', 'jouhou（shouhou）', '1074～1077', '8月23日', '']\n",
      "['67', '平安時代', '承暦', 'じょうりゃく（しょうりゃく）', 'jouryaku（shouryaku）', '1077～1081', '11月17日', '「しょうれき」とも']\n",
      "['68', '平安時代', '永保', 'えいほう', 'eihou', '1081～1084', '2月10日', '']\n",
      "['69', '平安時代', '応徳', 'おうとく', 'outoku', '1084～1087', '2月7日', '']\n",
      "['70', '平安時代', '寛治', 'かんじ', 'kanji', '1087～1094', '4月7日', '']\n",
      "['71', '平安時代', '嘉保', 'かほう', 'kahou', '1094～1096', '12月15日', '']\n",
      "['72', '平安時代', '永長', 'えいちょう（ようちょう）', 'eichou（youchou）', '1096～1097', '12月17日', '']\n",
      "['73', '平安時代', '承徳', 'じょうとく（しょうとく）', 'joutoku（shoutoku）', '1097～1099', '11月21日', '']\n",
      "['74', '平安時代', '康和', 'こうわ', 'kouwa', '1099～1104', '8月28日', '']\n",
      "['75', '平安時代', '長治', 'ちょうじ', 'chouji', '1104～1106', '2月10日', '']\n",
      "['76', '平安時代', '嘉承', 'かじょう（かしょう）', 'kajou（kashou）', '1106～1108', '4月9日', '「かそう」とも']\n",
      "['77', '平安時代', '天仁', 'てんにん', 'tennin', '1108～1110', '8月3日', '']\n",
      "['78', '平安時代', '天永', 'てんえい', \"ten'ei\", '1110～1113', '7月13日', '']\n",
      "['79', '平安時代', '永久', 'えいきゅう', 'eikyuu', '1113～1118', '7月13日', '']\n",
      "['80', '平安時代', '元永', 'げんえい', \"gen'ei\", '1118～1120', '4月3日', '']\n",
      "['81', '平安時代', '保安', 'ほうあん', 'houan', '1120～1124', '4月10日', '']\n",
      "['82', '平安時代', '天治', 'てんじ', 'tenji', '1124～1126', '4月3日', '']\n",
      "['83', '平安時代', '大治', 'だいじ（たいじ）', 'daiji（taiji）', '1126～1131', '1月22日', '']\n",
      "['84', '平安時代', '天承', 'てんしょう（てんじょう）', 'tenshou（tenjou）', '1131～1132', '1月29日', '']\n",
      "['85', '平安時代', '長承', 'ちょうしょう（ちょうじょう）', 'choushou（choujou）', '1132～1135', '8月11日', '']\n",
      "['86', '平安時代', '保延', 'ほうえん', 'houen', '1135～1141', '4月27日', '']\n",
      "['87', '平安時代', '永治', 'えいじ', 'eiji', '1141～1142', '7月10日', '']\n",
      "['88', '平安時代', '康治', 'こうじ', 'kouji', '1142～1144', '4月28日', '']\n",
      "['89', '平安時代', '天養', 'てんよう', 'tenyou', '1144～1145', '2月23日', '']\n",
      "['90', '平安時代', '久安', 'きゅうあん', 'kyuuan', '1145～1151', '7月22日', '']\n",
      "['91', '平安時代', '仁平', 'にんぺい（にんびょう）', 'ninpei（ninbyou）', '1151～1154', '1月26日', '「にんひょう」「にんへい」とも']\n",
      "['92', '平安時代', '久寿', 'きゅうじゅ', 'kyuuju', '1154～1156', '10月28日', '']\n",
      "['93', '平安時代', '保元', 'ほうげん', 'hougen', '1156～1159', '4月27日', '']\n",
      "['94', '平安時代', '平治', 'へいじ（びょうじ）', 'heiji（byouji）', '1159～1160', '4月20日', '']\n",
      "['95', '平安時代', '永暦', 'えいりゃく（ようりゃく）', 'eiryaku（youryaku）', '1160～1161', '1月10日', '']\n",
      "['96', '平安時代', '応保', 'おうほう', 'ouhou', '1161～1163', '9月4日', '']\n",
      "['97', '平安時代', '長寛', 'ちょうかん', 'choukan', '1163～1165', '3月29日', '']\n",
      "['98', '平安時代', '永万', 'えいまん（ようまん）', 'eiman（youman）', '1165～1166', '6月5日', '']\n",
      "['99', '平安時代', '仁安', 'にんあん（にんなん）', \"nin'an（ninnan）\", '1166～1169', '8月27日', '']\n",
      "['100', '平安時代', '嘉応', 'かおう', 'kaou', '1169～1171', '4月8日', '']\n",
      "['101', '平安時代', '承安', 'じょうあん（しょうあん）', 'jouan（shouan）', '1171～1175', '4月21日', '']\n",
      "['102', '平安時代', '安元', 'あんげん', 'angen', '1175～1177', '7月28日', '']\n",
      "['103', '平安時代', '治承', 'じしょう（じじょう）', 'jishou（jijou）', '1177～1181', '8月4日', '']\n",
      "['104', '平安時代', '養和', 'ようわ', 'youwa', '1181～1182', '7月14日', '']\n",
      "['105', '平安時代', '寿永', 'じゅえい', 'juei', '1182～1184', '5月27日', '']\n",
      "['106', '平安時代', '元暦', 'げんりゃく', 'genryaku', '1184～1185', '4月16日', '']\n",
      "['107', '平安時代', '文治', 'ぶんじ（もんじ）', 'bunji（monji）', '1185～1190', '8月14日', '']\n",
      "['108', '鎌倉時代', '建久', 'けんきゅう', 'kenkyuu', '1190～1199', '4月11日', '建久３年（1192）源頼朝、鎌倉幕府を開く']\n",
      "['109', '鎌倉時代', '正治', 'しょうじ', 'shouji', '1199～1201', '4月27日', '']\n",
      "['110', '鎌倉時代', '建仁', 'けんにん', 'kennin', '1201～1204', '2月13日', '']\n",
      "['111', '鎌倉時代', '元久', 'げんきゅう', 'genkyuu', '1204～1206', '2月20日', '']\n",
      "['112', '鎌倉時代', '建永', 'けんえい', \"ken'ei\", '1206～1207', '4月27日', '']\n",
      "['113', '鎌倉時代', '承元', 'じょうげん（しょうげん）', 'jougen（shougen）', '1207～1211', '10月25日', '']\n",
      "['114', '鎌倉時代', '建暦', 'けんりゃく', 'kenryaku', '1211～1213', '3月9日', '']\n",
      "['115', '鎌倉時代', '建保', 'けんぽう（けんほう）', 'kenpou（kenhou）', '1213～1219', '12月6日', '']\n",
      "['116', '鎌倉時代', '承久', 'じょうきゅう（しょうきゅう）', 'joukyuu（shoukyuu）', '1219～1222', '4月12日', '']\n",
      "['117', '鎌倉時代', '貞応', 'じょうおう（ていおう）', 'jouou（teiou）', '1222～1224', '4月13日', '']\n",
      "['118', '鎌倉時代', '元仁', 'げんにん', 'gennin', '1224～1225', '11月20日', '']\n",
      "['119', '鎌倉時代', '嘉禄', 'かろく', 'karoku', '1225～1227', '4月20日', '']\n",
      "['120', '鎌倉時代', '安貞', 'あんてい', 'antei', '1227～1229', '12月10日', '']\n",
      "['121', '鎌倉時代', '寛喜', 'かんき', 'kanki', '1229～1232', '3月5日', '']\n",
      "['122', '鎌倉時代', '貞永', 'じょうえい（ていえい）', 'jouei（teiei）', '1232～1233', '4月2日', '']\n",
      "['123', '鎌倉時代', '天福', 'てんぷく（てんふく）', 'tenpuku（tenfuku）', '1233～1234', '4月15日', '']\n",
      "['124', '鎌倉時代', '文暦', 'ぶんりゃく（もんりゃく）', 'bunryaku（monryaku）', '1234～1235', '11月5日', '「もんれき」とも']\n",
      "['125', '鎌倉時代', '嘉禎', 'かてい', 'katei', '1235～1238', '9月19日', '']\n",
      "['126', '鎌倉時代', '暦仁', 'りゃくにん（れきにん）', 'ryakunin（rekinin）', '1238～1239', '11月23日', '']\n",
      "['127', '鎌倉時代', '延応', 'えんおう（えんのう）', \"en'ou（ennou）\", '1239～1240', '2月7日', '']\n",
      "['128', '鎌倉時代', '仁治', 'にんじ（にんち）', 'ninji（ninchi）', '1240～1243', '7月16日', '']\n",
      "['129', '鎌倉時代', '寛元', 'かんげん', 'kangen', '1243～1247', '2月26日', '']\n",
      "['130', '鎌倉時代', '宝治', 'ほうじ', 'houji', '1247～1249', '2月28日', '']\n",
      "['131', '鎌倉時代', '建長', 'けんちょう', 'kenchou', '1249～1256', '3月18日', '']\n",
      "['132', '鎌倉時代', '康元', 'こうげん', 'kougen', '1256～1257', '10月5日', '']\n",
      "['133', '鎌倉時代', '正嘉', 'しょうか', 'shouka', '1257～1259', '3月14日', '']\n",
      "['134', '鎌倉時代', '正元', 'しょうげん', 'shougen', '1259～1260', '3月26日', '']\n",
      "['135', '鎌倉時代', '文応', 'ぶんおう', \"bun'ou\", '1260～1261', '4月13日', '']\n",
      "['136', '鎌倉時代', '弘長', 'こうちょう', 'kouchou', '1261～1264', '2月20日', '']\n",
      "['137', '鎌倉時代', '文永', 'ぶんえい', \"bun'ei\", '1264～1275', '2月28日', '']\n",
      "['138', '鎌倉時代', '建治', 'けんじ', 'kenji', '1275～1278', '4月25日', '']\n",
      "['139', '鎌倉時代', '弘安', 'こうあん', 'kouan', '1278～1288', '2/29', '']\n",
      "['140', '鎌倉時代', '正応', 'しょうおう', 'shouou', '1288～1293', '4月28日', '']\n",
      "['141', '鎌倉時代', '永仁', 'えいにん', 'einin', '1293～1299', '8月5日', '']\n",
      "['142', '鎌倉時代', '正安', 'しょうあん', 'shouan', '1299～1302', '4月25日', '']\n",
      "['143', '鎌倉時代', '乾元', 'けんげん', 'kengen', '1302～1303', '11月21日', '']\n",
      "['144', '鎌倉時代', '嘉元', 'かげん', 'kagen', '1303～1306', '8月5日', '']\n",
      "['145', '鎌倉時代', '徳治', 'とくじ', 'tokuji', '1306～1308', '12月14日', '']\n",
      "['146', '鎌倉時代', '延慶', 'えんきょう（えんぎょう）', 'enkyou（engyou）', '1308～1311', '10月9日', '「えんけい」とも']\n",
      "['147', '鎌倉時代', '応長', 'おうちょう', 'ouchou', '1311～1312', '4月28日', '']\n",
      "['148', '鎌倉時代', '正和', 'しょうわ', 'shouwa', '1312～1317', '3月20日', '']\n",
      "['149', '鎌倉時代', '文保', 'ぶんぽう（ぶんほう）', 'bunpou（bunhou）', '1317～1319', '2月3日', '']\n",
      "['150', '鎌倉時代', '元応', 'げんおう（げんのう）', \"gen'ou（gennou）\", '1319～1321', '4月28日', '']\n",
      "['151', '鎌倉時代', '元亨', 'げんこう', 'genkou', '1321～1324', '2月23日', '']\n",
      "['152', '鎌倉時代', '正中', 'しょうちゅう', 'shouchuu', '1324～1326', '12月9日', '']\n",
      "['153', '鎌倉時代', '嘉暦', 'かりゃく', 'karyaku', '1326～1329', '4月26日', '']\n",
      "['155', '北朝', '元徳', 'げんとく', 'gentoku', '1329～1332', '8月29日', '']\n",
      "['156', '南朝', '元弘', 'げんこう', 'genkou', '1331～1334', '8月9日', '後醍醐天皇は「元弘」と改元']\n",
      "['157', '北朝', '正慶', 'しょうきょう（しょうけい）', 'shoukyou（shoukei）', '1332～1334', '4月28日', '光巌天皇は翌年「正慶」と改元']\n",
      "['158', '南朝', '建武', 'けんむ（けんぶ）', 'kenmu（kenbu）', '1334～1336', '1月29日', '']\n",
      "['159', '北朝', '建武', 'けんむ（けんぶ）', 'kenmu（kenbu）', '1334～1338', '1月29日', '']\n",
      "['160', '南朝', '延元', 'えんげん', 'engen', '1336～1340', '2/29', '']\n",
      "['161', '北朝', '暦応', 'りゃくおう（れきおう）', 'ryakuou（rekiou）', '1338～1342', '8月28日', '暦応元年、足利尊氏征夷大将軍に']\n",
      "['162', '南朝', '興国', 'こうこく', 'koukoku', '1340～1346', '4月28日', '']\n",
      "['163', '北朝', '康永', 'こうえい', 'kouei', '1342～1345', '4月27日', '']\n",
      "['164', '北朝', '貞和', 'じょうわ（ていわ）', 'jouwa（teiwa）', '1345～1350', '10月21日', '']\n",
      "['165', '南朝', '正平', 'しょうへい', 'shouhei', '1346～1370', '12月8日', '']\n",
      "['166', '北朝', '観応', 'かんおう（かんのう）', \"kan'ou（kannou）\", '1350～1352', '2月27日', '']\n",
      "['167', '北朝', '文和', 'ぶんな（ぶんわ）', 'bunna（bunwa）', '1352～1356', '9月27日', '']\n",
      "['168', '北朝', '延文', 'えんぶん', 'enbun', '1356～1361', '3月28日', '']\n",
      "['169', '北朝', '康安', 'こうあん', 'kouan', '1361～1362', '3月29日', '']\n",
      "['170', '北朝', '貞治', 'じょうじ（ていじ）', 'jouji（teiji）', '1362～1368', '9月23日', '']\n",
      "['171', '北朝', '応安', 'おうあん', 'ouan', '1368～1375', '2月18日', '']\n",
      "['172', '南朝', '建徳', 'けんとく', 'kentoku', '1370～1372', '7月24日', '']\n",
      "['173', '南朝', '文中', 'ぶんちゅう', 'bunchuu', '1372～1375', '4/？', '10/4とか10/24なども']\n",
      "['174', '南朝', '天授', 'てんじゅ', 'tenju', '1375～1381', '5月27日', '']\n",
      "['175', '北朝', '永和', 'えいわ', 'eiwa', '1375～1379', '2月27日', '']\n",
      "['176', '北朝', '康暦', 'こうりゃく', 'kouryaku', '1379～1381', '3月22日', '']\n",
      "['177', '南朝', '弘和', 'こうわ', 'kouwa', '1381～1384', '2月10日', '']\n",
      "['178', '北朝', '永徳', 'えいとく', 'eitoku', '1381～1384', '2月24日', '']\n",
      "['179', '南朝', '元中', 'げんちゅう', 'genchuu', '1384～1392', '4月28日', '']\n",
      "['180', '北朝', '至徳', 'しとく', 'shitoku', '1384～1387', '2月27日', '']\n",
      "['181', '北朝', '嘉慶', 'かきょう（かけい）', 'kakyou（kakei）', '1387～1389', '8月23日', '']\n",
      "['182', '北朝', '康応', 'こうおう', 'kouou', '1389～1390', '2月9日', '']\n",
      "['183', '北朝', '明徳', 'めいとく', 'meitoku', '1390～1394', '3月26日', '']\n",
      "['185', '室町時代', '応永', 'おうえい', 'ouei', '1394～1428', '7月5日', '']\n",
      "['186', '室町時代', '正長', 'しょうちょう', 'shouchou', '1428～1429', '4月27日', '']\n",
      "['187', '室町時代', '永享', 'えいきょう', 'eikyou', '1429～1441', '9月5日', '']\n",
      "['188', '室町時代', '嘉吉', 'かきつ（かきち）', 'kakitsu（kakichi）', '1441～1444', '2月17日', '']\n",
      "['189', '室町時代', '文安', 'ぶんあん', \"bun'an\", '1444～1449', '2月5日', '']\n",
      "['190', '室町時代', '宝徳', 'ほうとく', 'houtoku', '1449～1452', '7月28日', '']\n",
      "['191', '室町時代', '享徳', 'きょうとく', 'kyoutoku', '1452～1455', '7月25日', '']\n",
      "['192', '室町時代', '康正', 'こうしょう', 'koushou', '1455～1457', '7月25日', '']\n",
      "['193', '室町時代', '長禄', 'ちょうろく', 'chouroku', '1457～1460', '9月28日', '']\n",
      "['194', '室町時代', '寛正', 'かんしょう', 'kanshou', '1460～1466', '12月21日', '']\n",
      "['195', '室町時代', '文正', 'ぶんしょう（もんしょう）', 'bunshou（monshou）', '1466～1467', '2月28日', '']\n",
      "['196', '室町時代', '応仁', 'おうにん', 'ounin', '1467～1469', '3月5日', '']\n",
      "['197', '室町時代', '文明', 'ぶんめい', 'bunmei', '1469～1487', '4月28日', '応仁の乱が終わり、戦国時代が始まる']\n",
      "['198', '室町時代', '長享', 'ちょうきょう', 'choukyou', '1487～1489', '7月20日', '']\n",
      "['199', '室町時代', '延徳', 'えんとく', 'entoku', '1489～1492', '8月21日', '']\n",
      "['200', '室町時代', '明応', 'めいおう', 'meiou', '1492～1501', '7月19日', '']\n",
      "['201', '室町時代', '文亀', 'ぶんき', 'bunki', '1501～1504', '2/29', '']\n",
      "['202', '室町時代', '永正', 'えいしょう', 'eishou', '1504～1521', '2/30', '']\n",
      "['203', '室町時代', '大永', 'だいえい', 'daiei', '1521～1528', '8月23日', '']\n",
      "['204', '室町時代', '享禄', 'きょうろく', 'kyouroku', '1528～1532', '8月20日', '']\n",
      "['205', '室町時代', '天文', 'てんぶん', 'tenbun', '1532～1555', '7月29日', '']\n",
      "['206', '室町時代', '弘治', 'こうじ', 'kouji', '1555～1558', '10月23日', '']\n",
      "['207', '室町時代', '永禄', 'えいろく', 'eiroku', '1558～1570', '2月28日', '']\n",
      "['208', '室町時代', '元亀', 'げんき', 'genki', '1570～1573', '4月23日', '']\n",
      "['209', '安土桃山時代', '天正', 'てんしょう', 'tenshou', '1573～1592', '7月28日', '天正元年（1573）室町幕府滅亡']\n",
      "['210', '安土桃山時代', '文禄', 'ぶんろく', 'bunroku', '1592～1596', '12月8日', '']\n",
      "['211', '安土桃山時代', '慶長', 'けいちょう（きょうちょう）', 'keichou（kyouchou）', '1596～1615', '10月27日', '慶長８年（1603）徳川家康が江戸幕府を開く']\n",
      "['212', '江戸時代', '元和', 'げんな（げんわ）', 'genna（genwa）', '1615～1624', '7月13日', '慶長１６年（1611）加藤清正没']\n",
      "['213', '江戸時代', '寛永', 'かんえい', \"kan'ei\", '1624～1644', '2/30', '寛永14年（1637）島原の乱，鎖国（1639）']\n",
      "['214', '江戸時代', '正保', 'しょうほう', 'shouhou', '1644～1648', '12月16日', '正保２年（１６４５）宮本武蔵没']\n",
      "['215', '江戸時代', '慶安', 'けいあん', 'keian', '1648～1652', '2月15日', '']\n",
      "['216', '江戸時代', '承応', 'じょうおう（しょうおう）', 'jouou（shouou）', '1652～1655', '9月18日', '']\n",
      "['217', '江戸時代', '明暦', 'めいれき（みょうりゃく）', 'meireki（myouryaku）', '1655～1658', '4月13日', '「めいりゃく」とも']\n",
      "['218', '江戸時代', '万治', 'まんじ', 'manji', '1658～1661', '7月23日', '']\n",
      "['219', '江戸時代', '寛文', 'かんぶん', 'kanbun', '1661～1673', '4月25日', '']\n",
      "['220', '江戸時代', '延宝', 'えんぽう', 'enpou', '1673～1681', '9月21日', '']\n",
      "['221', '江戸時代', '天和', 'てんな', 'tenna', '1681～1684', '9月29日', '']\n",
      "['222', '江戸時代', '貞享', 'じょうきょう', 'joukyou', '1684～1688', '2月21日', '']\n",
      "['223', '江戸時代', '元禄', 'げんろく', 'genroku', '1688～1704', '9月30日', '']\n",
      "['224', '江戸時代', '宝永', 'ほうえい', 'houei', '1704～1711', '3月13日', '']\n",
      "['225', '江戸時代', '正徳', 'しょうとく', 'shoutoku', '1711～1716', '4月25日', '']\n",
      "['226', '江戸時代', '享保', 'きょうほう（きょうほ）', 'kyouhou（kyouho）', '1716～1736', '6月22日', '享保15年（1730)井沢蟠龍没']\n",
      "['227', '江戸時代', '元文', 'げんぶん', 'genbun', '1736～1741', '4月28日', 'ケーニヒスベルグの七つの橋の問題（オイラー）']\n",
      "['228', '江戸時代', '寛保', 'かんぽう（かんほう）', 'kanpou（kanhou）', '1741～1744', '2月27日', '']\n",
      "['229', '江戸時代', '延享', 'えんきょう', 'enkyou', '1744～1748', '2月21日', '']\n",
      "['230', '江戸時代', '寛延', 'かんえん', \"kan'en\", '1748～1751', '7月12日', '']\n",
      "['231', '江戸時代', '宝暦', 'ほうれき（ほうりゃく）', 'houreki（houryaku）', '1751～1764', '10月27日', '']\n",
      "['232', '江戸時代', '明和', 'めいわ', 'meiwa', '1764～1772', '6月2日', '']\n",
      "['233', '江戸時代', '安永', 'あんえい', \"an'ei\", '1772～1781', '11月16日', '安永３年(1774)洞口橋']\n",
      "['234', '江戸時代', '天明', 'てんめい', 'tenmei', '1781～1789', '4月2日', '']\n",
      "['235', '江戸時代', '寛政', 'かんせい', 'kansei', '1789～1801', '1月25日', '']\n",
      "['236', '江戸時代', '享和', 'きょうわ', 'kyouwa', '1801～1804', '2月5日', '']\n",
      "['237', '江戸時代', '文化', 'ぶんか', 'bunka', '1804～1818', '2月11日', '文化６年（１８０９）横井小楠生誕']\n",
      "['238', '江戸時代', '文政', 'ぶんせい', 'bunsei', '1818～1830', '4月22日', '文政元年（1818）頼山陽水俣に']\n",
      "['239', '江戸時代', '天保', 'てんぽう（てんほう）', 'tenpou（tenhou）', '1830～1844', '12月10日', '']\n",
      "['240', '江戸時代', '弘化', 'こうか', 'kouka', '1844～1848', '12月2日', '浪華二十八橋知恵渡（真元算法）']\n",
      "['241', '江戸時代', '嘉永', 'かえい', 'kaei', '1848～1854', '2月28日', '嘉永４年（1851）岩永三五郎没']\n",
      "['242', '江戸時代', '安政', 'あんせい', 'ansei', '1854～1860', '11月27日', '嘉永７年(1854)通潤橋']\n",
      "['243', '江戸時代', '万延', 'まんえん', \"man'en\", '1860～1861', '3月18日', '']\n",
      "['244', '江戸時代', '文久', 'ぶんきゅう', 'bunkyuu', '1861～1864', '2月19日', '']\n",
      "['245', '江戸時代', '元治', 'げんじ', 'genji', '1864～1865', '2月20日', '元治元年（１８６４）宮部鼎蔵没']\n",
      "['246', '江戸時代', '慶応', 'けいおう', 'keiou', '1865～1868', '4月7日', '慶応３年（1867）10月14日大政奉還']\n",
      "['247', '明治', '明治', 'めいじ', 'meiji', '1868～1912', '9月8日', '明治元年は1/1から。明治６年以降は太陽暦']\n",
      "['248', '大正', '大正', 'たいしょう', 'taishou', '1912～1926', '7月30日', '']\n",
      "['249', '昭和', '昭和', 'しょうわ', 'shouwa', '1926～1989', '12月25日', '昭和６４年は１月７日まで']\n",
      "['250', '平成', '平成', 'へいせい', 'heisei', '1989～', '1月8日', '']\n"
     ]
    }
   ],
   "source": [
    "for row in icsv:\n",
    "    rowitems = list(row)\n",
    "    print(row)\n",
    "    adict[rowitems[4][0]] = adict[rowitems[4][0]] + 1"
   ]
  },
  {
   "cell_type": "code",
   "execution_count": 54,
   "metadata": {},
   "outputs": [
    {
     "name": "stdout",
     "output_type": "stream",
     "text": [
      "{'a': 5, 'b': 15, 'c': 11, 'd': 3, 'e': 27, 'f': 0, 'g': 15, 'h': 11, 'i': 0, 'j': 21, 'k': 64, 'l': 0, 'm': 8, 'n': 5, 'o': 7, 'p': 0, 'q': 0, 'r': 3, 's': 19, 't': 31, 'u': 0, 'v': 0, 'w': 1, 'x': 0, 'y': 2, 'z': 0}\n"
     ]
    }
   ],
   "source": [
    "print(adict)"
   ]
  },
  {
   "cell_type": "code",
   "execution_count": 55,
   "metadata": {
    "collapsed": true
   },
   "outputs": [],
   "source": [
    "left = range(len(adict))\n",
    "height = adict.values()\n",
    "labels = list(adict.keys())"
   ]
  },
  {
   "cell_type": "code",
   "execution_count": 56,
   "metadata": {},
   "outputs": [
    {
     "data": {
      "image/png": "[encoded data removed]",
      "text/plain": [
       "<matplotlib.figure.Figure at 0x1e820e26978>"
      ]
     },
     "metadata": {},
     "output_type": "display_data"
    }
   ],
   "source": [
    "plt.bar(left, height,tick_label=labels)\n",
    "plt.show()"
   ]
  },
  {
   "cell_type": "code",
   "execution_count": 57,
   "metadata": {
    "collapsed": true
   },
   "outputs": [],
   "source": [
    "ifile.close()\n",
    "ofile.close()"
   ]
  }
 ],
 "metadata": {
  "kernelspec": {
   "display_name": "Python 3",
   "language": "python",
   "name": "python3"
  },
  "language_info": {
   "codemirror_mode": {
    "name": "ipython",
    "version": 3
   },
   "file_extension": ".py",
   "mimetype": "text/x-python",
   "name": "python",
   "nbconvert_exporter": "python",
   "pygments_lexer": "ipython3",
   "version": "3.6.3"
  }
 },
 "nbformat": 4,
 "nbformat_minor": 2
}
